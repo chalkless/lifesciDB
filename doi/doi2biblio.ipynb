{
  "nbformat": 4,
  "nbformat_minor": 0,
  "metadata": {
    "colab": {
      "provenance": []
    },
    "kernelspec": {
      "name": "python3",
      "display_name": "Python 3"
    },
    "language_info": {
      "name": "python"
    }
  },
  "cells": [
    {
      "cell_type": "markdown",
      "source": [
        "使うライブラリの呼び出し：Webでたたくところ、json"
      ],
      "metadata": {
        "id": "3eaAnu5GsAxH"
      }
    },
    {
      "cell_type": "code",
      "execution_count": 52,
      "metadata": {
        "colab": {
          "base_uri": "https://localhost:8080/"
        },
        "id": "TxkyCPx0r3Qk",
        "outputId": "5e852d57-d7bf-4b4e-fa56-572a0413fbf9"
      },
      "outputs": [
        {
          "output_type": "stream",
          "name": "stdout",
          "text": [
            "Requirement already satisfied: requests in /usr/local/lib/python3.10/dist-packages (2.31.0)\n",
            "Requirement already satisfied: charset-normalizer<4,>=2 in /usr/local/lib/python3.10/dist-packages (from requests) (3.3.2)\n",
            "Requirement already satisfied: idna<4,>=2.5 in /usr/local/lib/python3.10/dist-packages (from requests) (3.7)\n",
            "Requirement already satisfied: urllib3<3,>=1.21.1 in /usr/local/lib/python3.10/dist-packages (from requests) (2.0.7)\n",
            "Requirement already satisfied: certifi>=2017.4.17 in /usr/local/lib/python3.10/dist-packages (from requests) (2024.7.4)\n"
          ]
        }
      ],
      "source": [
        "!pip install requests"
      ]
    },
    {
      "cell_type": "code",
      "source": [
        "import requests\n",
        "import pprint"
      ],
      "metadata": {
        "id": "sILB0b8yyzM4"
      },
      "execution_count": 53,
      "outputs": []
    },
    {
      "cell_type": "markdown",
      "source": [
        "Webでたたくところ"
      ],
      "metadata": {
        "id": "K4odyooVsI2k"
      }
    },
    {
      "cell_type": "code",
      "source": [
        "doi = \"10.3389/fevo.2022.966605\""
      ],
      "metadata": {
        "id": "4wwDnxw0sL1_"
      },
      "execution_count": 54,
      "outputs": []
    },
    {
      "cell_type": "code",
      "source": [
        "url_base = \"http://refindit.org/find\"\n",
        "params = {'search': 'simple', 'text': doi}"
      ],
      "metadata": {
        "id": "joWsUl5e0BYR"
      },
      "execution_count": 55,
      "outputs": []
    },
    {
      "cell_type": "code",
      "source": [
        "response = requests.get(url_base, params=params)"
      ],
      "metadata": {
        "id": "ClQ8uoXA0iVq"
      },
      "execution_count": 56,
      "outputs": []
    },
    {
      "cell_type": "code",
      "source": [
        "pprint.pprint(response)"
      ],
      "metadata": {
        "colab": {
          "base_uri": "https://localhost:8080/"
        },
        "id": "2isBdnon18aI",
        "outputId": "06b78596-d242-4d27-af62-e259e6f706ab"
      },
      "execution_count": 57,
      "outputs": [
        {
          "output_type": "stream",
          "name": "stdout",
          "text": [
            "<Response [200]>\n"
          ]
        }
      ]
    },
    {
      "cell_type": "code",
      "source": [
        "data = response.json()"
      ],
      "metadata": {
        "id": "9wxlI1LS21u0"
      },
      "execution_count": 58,
      "outputs": []
    },
    {
      "cell_type": "code",
      "source": [
        "pprint.pprint(data)"
      ],
      "metadata": {
        "colab": {
          "base_uri": "https://localhost:8080/"
        },
        "id": "0cbXQC-YBb83",
        "outputId": "efb74e39-9624-42f7-ed50-6de31b94bb56"
      },
      "execution_count": 59,
      "outputs": [
        {
          "output_type": "stream",
          "name": "stdout",
          "text": [
            "[{'authors': [['Takeru', 'Nakazato'], ['Utsugi', 'Jinbo']],\n",
            "  'doi': '10.3389/fevo.2022.966605',\n",
            "  'epage': None,\n",
            "  'firstauthor': ['Takeru', 'Nakazato'],\n",
            "  'href': 'http://dx.doi.org/10.3389/fevo.2022.966605',\n",
            "  'id': '10.3389/fevo.2022.966605',\n",
            "  'isParsed': True,\n",
            "  'publicationDate': '2022-10-24',\n",
            "  'publishedIn': 'Frontiers in Ecology and Evolution',\n",
            "  'score': 0,\n",
            "  'source': 'CrossRef',\n",
            "  'spage': None,\n",
            "  'title': 'Cross-sectional use of barcode of life data system and GenBank as '\n",
            "           'DNA barcoding databases for the advancement of museomics',\n",
            "  'type': 'journal-article',\n",
            "  'volume': '10',\n",
            "  'year': 2022},\n",
            " {'abstract': '[This corrects the article DOI: 10.3389/ijph.2022.1604628.].',\n",
            "  'authors': [['Regina', 'Allande-Cussó'],\n",
            "              ['Juan Jesús', 'García-Iglesias'],\n",
            "              ['Rosario', 'Miranda-Plata'],\n",
            "              ['Rocío', 'Pichardo-Hexamer'],\n",
            "              ['Carlos', 'Ruiz-Frutos'],\n",
            "              ['Juan', 'Gómez-Salgado']],\n",
            "  'doi': '10.3389/ijph.2024.1607688',\n",
            "  'firstauthor': ['Regina', 'Allande-Cussó'],\n",
            "  'href': 'http://dx.doi.org/10.3389/ijph.2024.1607688',\n",
            "  'id': {'pmc': 'PMC11263933', 'pubmed': '39045462'},\n",
            "  'infoUrl': 'http://www.ncbi.nlm.nih.gov/pmc/articles/PMC11263933',\n",
            "  'isParsed': True,\n",
            "  'publishedIn': 'International journal of public health',\n",
            "  'source': 'PubMed',\n",
            "  'spage': '1607688',\n",
            "  'title': 'Corrigendum: Social Determinants of Health in the COVID-19 '\n",
            "           'Pandemic Context of the Migrant Population Living in Settlements '\n",
            "           'in Spain.',\n",
            "  'volume': '69',\n",
            "  'year': '2024'},\n",
            " {'abstract': '[This corrects the article DOI: 10.3389/fmed.2024.1365501.].',\n",
            "  'authors': [],\n",
            "  'doi': '10.3389/fmed.2024.1455319',\n",
            "  'firstauthor': [],\n",
            "  'href': 'http://dx.doi.org/10.3389/fmed.2024.1455319',\n",
            "  'id': {'pmc': 'PMC11263939', 'pubmed': '39045419'},\n",
            "  'infoUrl': 'http://www.ncbi.nlm.nih.gov/pmc/articles/PMC11263939',\n",
            "  'isParsed': True,\n",
            "  'publishedIn': 'Frontiers in medicine',\n",
            "  'source': 'PubMed',\n",
            "  'spage': '1455319',\n",
            "  'title': 'Erratum: Artificial intelligence based data curation: enabling a '\n",
            "           'patient-centric European health data space.',\n",
            "  'volume': '11',\n",
            "  'year': '2024'},\n",
            " {'abstract': '[This retracts the article DOI: 10.3389/fphar.2020.00510.].',\n",
            "  'authors': [],\n",
            "  'doi': '10.3389/fphar.2024.1451575',\n",
            "  'firstauthor': [],\n",
            "  'href': 'http://dx.doi.org/10.3389/fphar.2024.1451575',\n",
            "  'id': {'pmc': 'PMC11264377', 'pubmed': '39045043'},\n",
            "  'infoUrl': 'http://www.ncbi.nlm.nih.gov/pmc/articles/PMC11264377',\n",
            "  'isParsed': True,\n",
            "  'publishedIn': 'Frontiers in pharmacology',\n",
            "  'source': 'PubMed',\n",
            "  'spage': '1451575',\n",
            "  'title': 'Retraction: Yizhi Qingxin formula extract ameliorates cognitive '\n",
            "           'decline in aged rats via the brain-derived neurotrophic '\n",
            "           'factor/tropomyosin receptor kinase B pathway.',\n",
            "  'volume': '15',\n",
            "  'year': '2024'},\n",
            " {'abstract': '[This corrects the article DOI: 10.3389/fcvm.2023.1109946.].',\n",
            "  'authors': [['Juan', 'Liu'],\n",
            "              ['Yixuan', 'Wang'],\n",
            "              ['Jun', 'Zhang'],\n",
            "              ['Xin', 'Li'],\n",
            "              ['Lin', 'Tan'],\n",
            "              ['Haiyun', 'Huang'],\n",
            "              ['Yang', 'Dai'],\n",
            "              ['Yongning', 'Shang'],\n",
            "              ['Ying', 'Shen']],\n",
            "  'doi': '10.3389/fcvm.2024.1452088',\n",
            "  'firstauthor': ['Juan', 'Liu'],\n",
            "  'href': 'http://dx.doi.org/10.3389/fcvm.2024.1452088',\n",
            "  'id': {'pmc': 'PMC11265281', 'pubmed': '39045006'},\n",
            "  'infoUrl': 'http://www.ncbi.nlm.nih.gov/pmc/articles/PMC11265281',\n",
            "  'isParsed': True,\n",
            "  'publishedIn': 'Frontiers in cardiovascular medicine',\n",
            "  'source': 'PubMed',\n",
            "  'spage': '1452088',\n",
            "  'title': 'Corrigendum: Dynamic evolution of left ventricular strain and '\n",
            "           'microvascular perfusion assessed by speckle tracking '\n",
            "           'echocardiography and myocardial contrast echocardiography in '\n",
            "           'diabetic rats: effect of dapagliflozin.',\n",
            "  'volume': '11',\n",
            "  'year': '2024'},\n",
            " {'abstract': '[This corrects the article DOI: 10.3389/fcvm.2024.1385253.].',\n",
            "  'authors': [['Xiang', 'Yu'],\n",
            "              ['Wen', 'Xiong'],\n",
            "              ['Jie', 'Zhang'],\n",
            "              ['Jing', 'Lin'],\n",
            "              ['Bo', 'Wang'],\n",
            "              ['Hong', 'Huang'],\n",
            "              ['Lei', 'Du'],\n",
            "              ['Jiyue', 'Xiong']],\n",
            "  'doi': '10.3389/fcvm.2024.1450474',\n",
            "  'firstauthor': ['Xiang', 'Yu'],\n",
            "  'href': 'http://dx.doi.org/10.3389/fcvm.2024.1450474',\n",
            "  'id': {'pmc': 'PMC11264241', 'pubmed': '39045001'},\n",
            "  'infoUrl': 'http://www.ncbi.nlm.nih.gov/pmc/articles/PMC11264241',\n",
            "  'isParsed': True,\n",
            "  'publishedIn': 'Frontiers in cardiovascular medicine',\n",
            "  'source': 'PubMed',\n",
            "  'spage': '1450474',\n",
            "  'title': 'Corrigendum: Comparison of \"Huaxi-1\" or '\n",
            "           '\"histidine-tryptophan-ketoglutarate\" cardioplegia in an animal '\n",
            "           'model.',\n",
            "  'volume': '11',\n",
            "  'year': '2024'},\n",
            " {'authors': [['Takeru', 'Nakazato'], ['Utsugi', 'Jinbo']],\n",
            "  'doi': '10.3389/fevo.2022.966605',\n",
            "  'firstauthor': ['Takeru', 'Nakazato'],\n",
            "  'href': 'https://www.mendeley.com/catalogue/d2e90b16-5eba-389e-be3f-752801db6802/',\n",
            "  'id': {'doi': '10.3389/fevo.2022.966605',\n",
            "         'issn': '2296701X',\n",
            "         'pui': '2019977443',\n",
            "         'scopus': '2-s2.0-85141405054',\n",
            "         'sgr': '85141405054'},\n",
            "  'isParsed': True,\n",
            "  'publishedIn': 'Frontiers in Ecology and Evolution',\n",
            "  'source': 'Mendeley',\n",
            "  'spage': '',\n",
            "  'title': 'Cross-sectional use of barcode of life data system and GenBank as '\n",
            "           'DNA barcoding databases for the advancement of museomics',\n",
            "  'volume': '10',\n",
            "  'year': 2022}]\n"
          ]
        }
      ]
    },
    {
      "cell_type": "code",
      "source": [
        "title_out = set()\n",
        "\n",
        "for eachdata in data:\n",
        "  doi_out = eachdata['doi']\n",
        "  title = eachdata['title']\n",
        "\n",
        "  if doi_out == doi:\n",
        "    title_out.add(title)\n",
        "\n",
        "for eachtitle in title_out:\n",
        "  print(eachtitle)"
      ],
      "metadata": {
        "colab": {
          "base_uri": "https://localhost:8080/"
        },
        "id": "niXMOr_UBfHS",
        "outputId": "9bd4599a-6dab-4122-c43d-097f6418de3d"
      },
      "execution_count": 60,
      "outputs": [
        {
          "output_type": "stream",
          "name": "stdout",
          "text": [
            "Cross-sectional use of barcode of life data system and GenBank as DNA barcoding databases for the advancement of museomics\n"
          ]
        }
      ]
    }
  ]
}